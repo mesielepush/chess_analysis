{
 "cells": [
  {
   "cell_type": "code",
   "execution_count": 2,
   "id": "02602db0-6ada-44fa-b30c-17d3458e9a73",
   "metadata": {},
   "outputs": [],
   "source": [
    "import os\n",
    "from dotenv import load_dotenv\n",
    "import requests\n",
    "import pandas as pd\n",
    "import tempfile\n",
    "import psycopg2\n",
    "from itertools import chain\n",
    "load_dotenv()\n",
    "import numpy as np"
   ]
  },
  {
   "cell_type": "code",
   "execution_count": 1,
   "id": "60db419b-1005-4179-aabe-dfc2f55161f8",
   "metadata": {},
   "outputs": [],
   "source": [
    "import pandas as pd\n",
    "from analisys.database.db import (\n",
    "        player_exists_at_db,\n",
    "        open_request,\n",
    "        read_sql_tmpfile,\n",
    "        get_games_for_month, \n",
    "        get_profile,\n",
    "        number_of_games,\n",
    "        read_pd_profile,\n",
    "        post_profile)\n",
    "\n",
    "import matplotlib.pyplot as plt\n",
    "import requests\n",
    "from ast import literal_eval\n",
    "import json"
   ]
  },
  {
   "cell_type": "code",
   "execution_count": 2,
   "id": "821776a1-edbe-42d8-bac7-62f0a6851b1b",
   "metadata": {},
   "outputs": [
    {
     "data": {
      "text/plain": [
       "38679"
      ]
     },
     "execution_count": 2,
     "metadata": {},
     "output_type": "execute_result"
    }
   ],
   "source": [
    "number_of_games('hikaru')"
   ]
  },
  {
   "cell_type": "code",
   "execution_count": null,
   "id": "478134c6-1b8a-448e-a51f-0098f75b3118",
   "metadata": {},
   "outputs": [],
   "source": [
    "open_request(\"\"\"\n",
    "SELECT game FROM game\n",
    "where game.year = 2021\n",
    "and game.month = 3\n",
    "and (game.white = 'pat_buchanan' or game.black = 'pat_buchanan');\n",
    "\"\"\")"
   ]
  },
  {
   "cell_type": "code",
   "execution_count": 46,
   "id": "4009e9ec-57f3-4065-8203-0a95bee53823",
   "metadata": {},
   "outputs": [],
   "source": [
    "g = open_request(\"\"\"\n",
    "SELECT game.id FROM game\n",
    "where game.black = 'pat_buchanan'\n",
    "or game.white = 'pat_buchanan';\n",
    "\"\"\")"
   ]
  },
  {
   "cell_type": "code",
   "execution_count": 49,
   "id": "51d8baeb-bfdb-4967-a869-0e91736550ff",
   "metadata": {},
   "outputs": [],
   "source": [
    "e = open_request(\"\"\"\n",
    "            SELECT COUNT(game) FROM game\n",
    "            where game.black = 'pat_buchanan'\n",
    "            or game.white = 'pat_buchanan';\n",
    "            \"\"\")"
   ]
  },
  {
   "cell_type": "code",
   "execution_count": 51,
   "id": "6d4017c0-9a7f-4d06-9d4f-f67466bddfd9",
   "metadata": {},
   "outputs": [
    {
     "data": {
      "text/plain": [
       "70829"
      ]
     },
     "execution_count": 51,
     "metadata": {},
     "output_type": "execute_result"
    }
   ],
   "source": [
    "e[0][0]"
   ]
  },
  {
   "cell_type": "code",
   "execution_count": 8,
   "id": "2d315f42-6c49-44c0-af75-38fda607ce3f",
   "metadata": {},
   "outputs": [
    {
     "data": {
      "text/plain": [
       "{'player_name': {0: 'pat_buchanan'},\n",
       " 'name': {0: 'Pat Buchanan'},\n",
       " 'url': {0: 'https://www.chess.com/member/Pat_Buchanan'},\n",
       " 'title': {0: nan},\n",
       " 'avatar': {0: 'https://images.chesscomfiles.com/uploads/v1/user/29584920.b3462b3c.200x200o.b4b455f59035.jpeg'},\n",
       " 'followers': {0: 99},\n",
       " 'country': {0: 'MX'},\n",
       " 'location': {0: 'Ciudad de M&eacute;xico'},\n",
       " 'joined': {0: 1471850943},\n",
       " 'status': {0: 'basic'},\n",
       " 'is_streamer': {0: 'f'},\n",
       " 'twitch_url': {0: nan},\n",
       " 'verified': {0: 'f'},\n",
       " 'league': {0: 'Legend'}}"
      ]
     },
     "execution_count": 8,
     "metadata": {},
     "output_type": "execute_result"
    }
   ],
   "source": [
    "get_profile('pat_buchanan')"
   ]
  },
  {
   "cell_type": "code",
   "execution_count": 41,
   "id": "1189bd2a-5180-4681-88b5-6f14bf82de28",
   "metadata": {},
   "outputs": [
    {
     "data": {
      "text/plain": [
       "array([['2016_8', '43'],\n",
       "       ['2016_10', '5'],\n",
       "       ['2016_11', '262'],\n",
       "       ['2016_12', '842'],\n",
       "       ['2017_1', '1120'],\n",
       "       ['2017_2', '785'],\n",
       "       ['2017_3', '972'],\n",
       "       ['2017_4', '1429'],\n",
       "       ['2017_5', '1979'],\n",
       "       ['2017_6', '1120'],\n",
       "       ['2017_7', '1169'],\n",
       "       ['2017_8', '1032'],\n",
       "       ['2017_9', '867'],\n",
       "       ['2017_10', '672'],\n",
       "       ['2017_11', '1372'],\n",
       "       ['2017_12', '1179'],\n",
       "       ['2018_1', '923'],\n",
       "       ['2018_2', '353'],\n",
       "       ['2018_3', '233'],\n",
       "       ['2018_4', '1181'],\n",
       "       ['2018_5', '1050'],\n",
       "       ['2018_6', '697'],\n",
       "       ['2018_7', '1616'],\n",
       "       ['2018_8', '409'],\n",
       "       ['2018_9', '855'],\n",
       "       ['2018_10', '1626'],\n",
       "       ['2018_11', '1110'],\n",
       "       ['2018_12', '488'],\n",
       "       ['2019_1', '685'],\n",
       "       ['2019_2', '1921'],\n",
       "       ['2019_3', '720'],\n",
       "       ['2019_11', '98'],\n",
       "       ['2019_12', '176'],\n",
       "       ['2020_1', '1511'],\n",
       "       ['2020_2', '1122'],\n",
       "       ['2020_3', '604'],\n",
       "       ['2020_4', '165'],\n",
       "       ['2020_5', '412'],\n",
       "       ['2020_6', '917'],\n",
       "       ['2020_7', '1807'],\n",
       "       ['2020_8', '1482'],\n",
       "       ['2020_9', '647'],\n",
       "       ['2020_10', '382'],\n",
       "       ['2020_11', '460'],\n",
       "       ['2020_12', '1890'],\n",
       "       ['2021_1', '944'],\n",
       "       ['2021_2', '1070'],\n",
       "       ['2021_3', '638'],\n",
       "       ['2021_4', '683'],\n",
       "       ['2021_5', '825'],\n",
       "       ['2021_6', '1198'],\n",
       "       ['2021_7', '829'],\n",
       "       ['2021_8', '604'],\n",
       "       ['2021_9', '1218'],\n",
       "       ['2021_10', '290'],\n",
       "       ['2021_11', '1086'],\n",
       "       ['2021_12', '1023'],\n",
       "       ['2022_1', '1028'],\n",
       "       ['2022_2', '432'],\n",
       "       ['2022_3', '853'],\n",
       "       ['2022_4', '1331'],\n",
       "       ['2022_5', '770'],\n",
       "       ['2022_6', '1555'],\n",
       "       ['2022_7', '520'],\n",
       "       ['2022_8', '269'],\n",
       "       ['2022_9', '854'],\n",
       "       ['2022_10', '781'],\n",
       "       ['2022_11', '1036'],\n",
       "       ['2022_12', '576'],\n",
       "       ['2023_1', '598'],\n",
       "       ['2023_2', '201'],\n",
       "       ['2023_3', '282'],\n",
       "       ['2023_4', '811'],\n",
       "       ['2023_5', '1662'],\n",
       "       ['2023_6', '1431'],\n",
       "       ['2023_7', '1330'],\n",
       "       ['2023_8', '698'],\n",
       "       ['2023_9', '1251'],\n",
       "       ['2023_10', '1720'],\n",
       "       ['2023_11', '44']], dtype='<U21')"
      ]
     },
     "execution_count": 41,
     "metadata": {},
     "output_type": "execute_result"
    }
   ],
   "source": [
    "get_games_for_month('pat_buchanan')"
   ]
  },
  {
   "cell_type": "code",
   "execution_count": 39,
   "id": "b577a5d3",
   "metadata": {},
   "outputs": [
    {
     "data": {
      "text/plain": [
       "array([['2016_8', '43'],\n",
       "       ['2016_10', '5'],\n",
       "       ['2016_11', '262'],\n",
       "       ['2016_12', '842'],\n",
       "       ['2017_1', '1120'],\n",
       "       ['2017_2', '785'],\n",
       "       ['2017_3', '972'],\n",
       "       ['2017_4', '1429'],\n",
       "       ['2017_5', '1979'],\n",
       "       ['2017_6', '1120'],\n",
       "       ['2017_7', '1169'],\n",
       "       ['2017_8', '1032'],\n",
       "       ['2017_9', '867'],\n",
       "       ['2017_10', '672'],\n",
       "       ['2017_11', '1372'],\n",
       "       ['2017_12', '1179'],\n",
       "       ['2018_1', '923'],\n",
       "       ['2018_2', '353'],\n",
       "       ['2018_3', '233'],\n",
       "       ['2018_4', '1181'],\n",
       "       ['2018_5', '1050'],\n",
       "       ['2018_6', '697'],\n",
       "       ['2018_7', '1616'],\n",
       "       ['2018_8', '409'],\n",
       "       ['2018_9', '855'],\n",
       "       ['2018_10', '1626'],\n",
       "       ['2018_11', '1110'],\n",
       "       ['2018_12', '488'],\n",
       "       ['2019_1', '685'],\n",
       "       ['2019_2', '1921'],\n",
       "       ['2019_3', '720'],\n",
       "       ['2019_11', '98'],\n",
       "       ['2019_12', '176'],\n",
       "       ['2020_1', '1511'],\n",
       "       ['2020_2', '1122'],\n",
       "       ['2020_3', '604'],\n",
       "       ['2020_4', '165'],\n",
       "       ['2020_5', '412'],\n",
       "       ['2020_6', '917'],\n",
       "       ['2020_7', '1807'],\n",
       "       ['2020_8', '1482'],\n",
       "       ['2020_9', '647'],\n",
       "       ['2020_10', '382'],\n",
       "       ['2020_11', '460'],\n",
       "       ['2020_12', '1890'],\n",
       "       ['2021_1', '944'],\n",
       "       ['2021_2', '1070'],\n",
       "       ['2021_3', '638'],\n",
       "       ['2021_4', '683'],\n",
       "       ['2021_5', '825'],\n",
       "       ['2021_6', '1198'],\n",
       "       ['2021_7', '829'],\n",
       "       ['2021_8', '604'],\n",
       "       ['2021_9', '1218'],\n",
       "       ['2021_10', '290'],\n",
       "       ['2021_11', '1086'],\n",
       "       ['2021_12', '1023'],\n",
       "       ['2022_1', '1028'],\n",
       "       ['2022_2', '432'],\n",
       "       ['2022_3', '853'],\n",
       "       ['2022_4', '1331'],\n",
       "       ['2022_5', '770'],\n",
       "       ['2022_6', '1555'],\n",
       "       ['2022_7', '520'],\n",
       "       ['2022_8', '269'],\n",
       "       ['2022_9', '854'],\n",
       "       ['2022_10', '781'],\n",
       "       ['2022_11', '1036'],\n",
       "       ['2022_12', '576'],\n",
       "       ['2023_1', '598'],\n",
       "       ['2023_2', '201'],\n",
       "       ['2023_3', '282'],\n",
       "       ['2023_4', '811'],\n",
       "       ['2023_5', '1662'],\n",
       "       ['2023_6', '1431'],\n",
       "       ['2023_7', '1330'],\n",
       "       ['2023_8', '698'],\n",
       "       ['2023_9', '1251'],\n",
       "       ['2023_10', '1720'],\n",
       "       ['2023_11', '14']], dtype='<U21')"
      ]
     },
     "execution_count": 39,
     "metadata": {},
     "output_type": "execute_result"
    }
   ],
   "source": [
    "get_games_for_month('pat_buchanan')"
   ]
  },
  {
   "cell_type": "code",
   "execution_count": null,
   "id": "683f7443-00b5-4572-92fb-a41c986991e8",
   "metadata": {},
   "outputs": [],
   "source": []
  },
  {
   "cell_type": "code",
   "execution_count": 5,
   "id": "04b676e6-8ed8-4c55-a568-86a79cc5256d",
   "metadata": {},
   "outputs": [
    {
     "data": {
      "text/plain": [
       "[(1703083688,\n",
       "  '1 2 3 4 5 6 7 8 9 10 11 12 13',\n",
       "  'e4 Nf3 Nc3 d4 Nxd4 Bb5 Nxc6 Bxc6+ O-O Bg5 Qf3 Bxf6 Rad1',\n",
       "  'c5 Nc6 d6 cxd4 Nf6 Bd7 Bxc6 bxc6 e5 Be7 h6 Bxf6 -',\n",
       "  '1.6000000000000014 0.5 0.29999999999999716 0.10000000000000142 4.5 5.600000000000001 0.7999999999999972 1.2000000000000028 3.3999999999999986 0.3999999999999986 1.4000000000000057 0.29999999999999716 nan',\n",
       "  '8.399999999999999 5.300000000000004 2.0 2.799999999999997 9.0 1.3000000000000007 0.8000000000000007 6.300000000000001 5.800000000000001 13.099999999999998 1.4999999999999998 nan',\n",
       "  '54.1 52.5 52.0 51.7 51.6 47.1 41.5 40.7 39.5 36.1 35.7 34.3 34.0',\n",
       "  '58.1 49.7 44.4 42.4 39.6 30.6 29.3 28.5 22.2 16.4 3.3 1.8')]"
      ]
     },
     "execution_count": 5,
     "metadata": {},
     "output_type": "execute_result"
    }
   ],
   "source": [
    "open_request(\"select * from moves where moves.id = 1703083688\")"
   ]
  },
  {
   "cell_type": "code",
   "execution_count": null,
   "id": "eb29dd27-bd21-448c-9779-4631846b1283",
   "metadata": {},
   "outputs": [],
   "source": [
    "open_request(f\"\"\"\n",
    "            SELECT year, month FROM game\n",
    "            Where game.black = 'pat_buchanan'\n",
    "            OR game.white = 'pat_buchanan'\n",
    "            \"\"\")"
   ]
  },
  {
   "cell_type": "code",
   "execution_count": 7,
   "id": "745ddbcb-a853-4336-9af6-3d800127f0fc",
   "metadata": {},
   "outputs": [
    {
     "data": {
      "text/plain": [
       "{'player_name': {0: 'pat_buchanan'},\n",
       " 'name': {0: 'Pat Buchanan'},\n",
       " 'url': {0: 'https://www.chess.com/member/Pat_Buchanan'},\n",
       " 'title': {0: nan},\n",
       " 'avatar': {0: 'https://images.chesscomfiles.com/uploads/v1/user/29584920.b3462b3c.200x200o.b4b455f59035.jpeg'},\n",
       " 'followers': {0: 99},\n",
       " 'country': {0: 'MX'},\n",
       " 'location': {0: 'Ciudad de M&eacute;xico'},\n",
       " 'joined': {0: 1471850943},\n",
       " 'status': {0: 'basic'},\n",
       " 'is_streamer': {0: 'f'},\n",
       " 'twitch_url': {0: nan},\n",
       " 'verified': {0: 'f'},\n",
       " 'league': {0: 'Legend'}}"
      ]
     },
     "execution_count": 7,
     "metadata": {},
     "output_type": "execute_result"
    }
   ],
   "source": []
  },
  {
   "cell_type": "code",
   "execution_count": 56,
   "id": "051bf5f0-db76-4214-9576-f0d9b10ec26d",
   "metadata": {},
   "outputs": [],
   "source": [
    "a = dates.pivot_table(index = ['year', 'month'], aggfunc ='size')"
   ]
  },
  {
   "cell_type": "code",
   "execution_count": 66,
   "id": "143b1511-a7c0-4492-9c55-100f5bb32214",
   "metadata": {},
   "outputs": [],
   "source": [
    "dates_hist = np.array(\n",
    "        [\n",
    "            [\n",
    "                f'{x[0]}_{x[1]}',\n",
    "                int(a[x])            ]\n",
    "            for x in a.index\n",
    "        ]\n",
    "    )"
   ]
  },
  {
   "cell_type": "code",
   "execution_count": null,
   "id": "32137357-7982-429e-865e-a771a33f86c5",
   "metadata": {},
   "outputs": [],
   "source": [
    "dates_hist"
   ]
  },
  {
   "cell_type": "code",
   "execution_count": null,
   "id": "1e179685-fc24-4781-a30b-3229dcc62099",
   "metadata": {},
   "outputs": [],
   "source": []
  },
  {
   "cell_type": "code",
   "execution_count": null,
   "id": "1cde98f0-86e1-44ec-9973-4f6685e51219",
   "metadata": {},
   "outputs": [],
   "source": [
    "np.array([list([f'{x[0]}_{x[1]}' for x in a.index]), [a[item] for item in a.index]])"
   ]
  },
  {
   "cell_type": "code",
   "execution_count": null,
   "id": "a2e2b404-7bf8-4a8f-877d-08953ac2d2a1",
   "metadata": {},
   "outputs": [],
   "source": []
  },
  {
   "cell_type": "code",
   "execution_count": null,
   "id": "74807efd-780b-4a97-b5f9-a0644f82eafc",
   "metadata": {},
   "outputs": [],
   "source": []
  },
  {
   "cell_type": "code",
   "execution_count": null,
   "id": "120bd941-7056-4340-94e2-e35a0b9cdf6d",
   "metadata": {},
   "outputs": [],
   "source": []
  },
  {
   "cell_type": "code",
   "execution_count": 35,
   "id": "60679b62-36c2-41fd-bb4b-eaa7573e73e9",
   "metadata": {},
   "outputs": [
    {
     "data": {
      "text/plain": [
       "43"
      ]
     },
     "execution_count": 35,
     "metadata": {},
     "output_type": "execute_result"
    }
   ],
   "source": [
    "a[(2016,  8)]"
   ]
  },
  {
   "cell_type": "code",
   "execution_count": 34,
   "id": "eebc3dfd-7c6c-4885-bd95-667718585311",
   "metadata": {},
   "outputs": [
    {
     "data": {
      "text/plain": [
       "MultiIndex([(2016,  8),\n",
       "            (2016, 10),\n",
       "            (2016, 11),\n",
       "            (2016, 12),\n",
       "            (2017,  1),\n",
       "            (2017,  2),\n",
       "            (2017,  3),\n",
       "            (2017,  4),\n",
       "            (2017,  5),\n",
       "            (2017,  6),\n",
       "            (2017,  7),\n",
       "            (2017,  8)],\n",
       "           names=['year', 'month'])"
      ]
     },
     "execution_count": 34,
     "metadata": {},
     "output_type": "execute_result"
    }
   ],
   "source": [
    " a.index[:12]"
   ]
  },
  {
   "cell_type": "code",
   "execution_count": null,
   "id": "786bdda9-7665-45c6-ab6a-dad3999e6692",
   "metadata": {},
   "outputs": [],
   "source": []
  },
  {
   "cell_type": "code",
   "execution_count": 38,
   "id": "eed703d4-ecd3-46f1-9886-a5e4ddab9c6a",
   "metadata": {},
   "outputs": [
    {
     "data": {
      "text/plain": [
       "<BarContainer object of 2 artists>"
      ]
     },
     "execution_count": 38,
     "metadata": {},
     "output_type": "execute_result"
    },
    {
     "data": {
      "image/png": "[encoded data removed]",
      "text/plain": [
       "<Figure size 432x288 with 1 Axes>"
      ]
     },
     "metadata": {
      "needs_background": "light"
     },
     "output_type": "display_data"
    }
   ],
   "source": [
    "plt.bar(['pipi','popo'],[1,2])"
   ]
  },
  {
   "cell_type": "code",
   "execution_count": 53,
   "id": "c621e727-dec1-4090-a82d-5229848c6704",
   "metadata": {},
   "outputs": [
    {
     "data": {
      "image/png": "[encoded data removed]",
      "text/plain": [
       "<Figure size 1080x720 with 1 Axes>"
      ]
     },
     "metadata": {
      "needs_background": "light"
     },
     "output_type": "display_data"
    }
   ],
   "source": [
    "plt.hist([a[item] for item in a.index], bins = 35);"
   ]
  },
  {
   "cell_type": "code",
   "execution_count": null,
   "id": "46881bea-7d02-4395-bf6c-5f8e8b278e23",
   "metadata": {},
   "outputs": [],
   "source": []
  },
  {
   "cell_type": "code",
   "execution_count": 46,
   "id": "9847297e-cf23-4ce7-a95d-cd889964358f",
   "metadata": {},
   "outputs": [
    {
     "data": {
      "image/png": "[encoded data removed]",
      "text/plain": [
       "<Figure size 1080x720 with 1 Axes>"
      ]
     },
     "metadata": {
      "needs_background": "light"
     },
     "output_type": "display_data"
    }
   ],
   "source": [
    "plt.rcParams[\"figure.figsize\"] = (15,10)\n",
    "plt.bar(list([f'{x[0]}_{x[1]}' for x in a.index]), [a[item] for item in a.index])\n",
    "plt.xticks(rotation=75);"
   ]
  },
  {
   "cell_type": "code",
   "execution_count": 27,
   "id": "7a00d6de-160e-4228-9764-7aa4a8ace83c",
   "metadata": {},
   "outputs": [
    {
     "data": {
      "text/plain": [
       "1032"
      ]
     },
     "execution_count": 27,
     "metadata": {},
     "output_type": "execute_result"
    }
   ],
   "source": [
    "a[(2017,8)]"
   ]
  },
  {
   "cell_type": "code",
   "execution_count": 19,
   "id": "9a4ede5c-d532-43b2-a1ec-69f854a70dbd",
   "metadata": {},
   "outputs": [
    {
     "ename": "AttributeError",
     "evalue": "'str' object has no attribute 'year'",
     "output_type": "error",
     "traceback": [
      "\u001b[0;31m---------------------------------------------------------------------------\u001b[0m",
      "\u001b[0;31mAttributeError\u001b[0m                            Traceback (most recent call last)",
      "Cell \u001b[0;32mIn[19], line 1\u001b[0m\n\u001b[0;32m----> 1\u001b[0m line \u001b[38;5;241m=\u001b[39m [\u001b[38;5;124mf\u001b[39m\u001b[38;5;124m'\u001b[39m\u001b[38;5;132;01m{\u001b[39;00m\u001b[38;5;28mstr\u001b[39m(item\u001b[38;5;241m.\u001b[39myear)\u001b[38;5;132;01m}\u001b[39;00m\u001b[38;5;124m_\u001b[39m\u001b[38;5;132;01m{\u001b[39;00m\u001b[38;5;28mstr\u001b[39m(item\u001b[38;5;241m.\u001b[39mmonth)\u001b[38;5;132;01m}\u001b[39;00m\u001b[38;5;124m'\u001b[39m \u001b[38;5;28;01mfor\u001b[39;00m item \u001b[38;5;129;01min\u001b[39;00m dates]\n",
      "Cell \u001b[0;32mIn[19], line 1\u001b[0m, in \u001b[0;36m<listcomp>\u001b[0;34m(.0)\u001b[0m\n\u001b[0;32m----> 1\u001b[0m line \u001b[38;5;241m=\u001b[39m [\u001b[38;5;124mf\u001b[39m\u001b[38;5;124m'\u001b[39m\u001b[38;5;132;01m{\u001b[39;00m\u001b[38;5;28mstr\u001b[39m(item\u001b[38;5;241m.\u001b[39myear)\u001b[38;5;132;01m}\u001b[39;00m\u001b[38;5;124m_\u001b[39m\u001b[38;5;132;01m{\u001b[39;00m\u001b[38;5;28mstr\u001b[39m(item\u001b[38;5;241m.\u001b[39mmonth)\u001b[38;5;132;01m}\u001b[39;00m\u001b[38;5;124m'\u001b[39m \u001b[38;5;28;01mfor\u001b[39;00m item \u001b[38;5;129;01min\u001b[39;00m dates]\n",
      "\u001b[0;31mAttributeError\u001b[0m: 'str' object has no attribute 'year'"
     ]
    }
   ],
   "source": [
    "line = [f'{str(dates.year)}_{str(item.month)}' for item in dates]"
   ]
  },
  {
   "cell_type": "code",
   "execution_count": 18,
   "id": "e0788dd2-db98-4ffd-b5f6-0715c8acd9d1",
   "metadata": {},
   "outputs": [
    {
     "data": {
      "text/plain": [
       "['0_year     2016\\nmonth       8\\nName: 0, dtype: int64',\n",
       " '1_year     2016\\nmonth       8\\nName: 1, dtype: int64']"
      ]
     },
     "execution_count": 18,
     "metadata": {},
     "output_type": "execute_result"
    }
   ],
   "source": [
    "line[:2]"
   ]
  },
  {
   "cell_type": "code",
   "execution_count": null,
   "id": "74c56776-a6fd-4b52-a4ce-0eebbfb243b7",
   "metadata": {},
   "outputs": [],
   "source": []
  },
  {
   "cell_type": "code",
   "execution_count": 3,
   "id": "adfa8466-5409-4c77-b4f7-353a9b750716",
   "metadata": {},
   "outputs": [],
   "source": []
  },
  {
   "cell_type": "code",
   "execution_count": 6,
   "id": "69eda477-56a0-4d64-ab7d-3c19233ca717",
   "metadata": {},
   "outputs": [],
   "source": []
  },
  {
   "cell_type": "code",
   "execution_count": 28,
   "id": "1318019d-2173-454c-9a2d-404c4ab4d37b",
   "metadata": {},
   "outputs": [
    {
     "ename": "IndentationError",
     "evalue": "expected an indented block (<ipython-input-28-9eb9771c9c00>, line 2)",
     "output_type": "error",
     "traceback": [
      "\u001b[0;36m  Cell \u001b[0;32mIn[28], line 2\u001b[0;36m\u001b[0m\n\u001b[0;31m    \u001b[0m\n\u001b[0m    ^\u001b[0m\n\u001b[0;31mIndentationError\u001b[0m\u001b[0;31m:\u001b[0m expected an indented block\n"
     ]
    }
   ],
   "source": [
    "def get_n_games_hist_data(player_name):\n",
    "    w = tuple([str(x) for x in w])\n",
    "\n",
    "    data = read_sql_tmpfile(f\"\"\"\n",
    "            SELECT * FROM moves\n",
    "            Where moves.id in {w}\n",
    "            \"\"\")"
   ]
  },
  {
   "cell_type": "code",
   "execution_count": 30,
   "id": "8da10438-0e30-48a0-be8e-613aafb1a697",
   "metadata": {},
   "outputs": [],
   "source": [
    "read_sql_tmpfile(f\"\"\"\n",
    "            SELECT  FROM player\n",
    "            Where player.player_name ='pat_buchanan'\n",
    "            \"\"\")"
   ]
  },
  {
   "cell_type": "code",
   "execution_count": 31,
   "id": "996c7b91-b351-4c7d-adfc-0528a9ea418b",
   "metadata": {},
   "outputs": [
    {
     "data": {
      "text/html": [
       "<div>\n",
       "<style scoped>\n",
       "    .dataframe tbody tr th:only-of-type {\n",
       "        vertical-align: middle;\n",
       "    }\n",
       "\n",
       "    .dataframe tbody tr th {\n",
       "        vertical-align: top;\n",
       "    }\n",
       "\n",
       "    .dataframe thead th {\n",
       "        text-align: right;\n",
       "    }\n",
       "</style>\n",
       "<table border=\"1\" class=\"dataframe\">\n",
       "  <thead>\n",
       "    <tr style=\"text-align: right;\">\n",
       "      <th></th>\n",
       "      <th>player_name</th>\n",
       "      <th>name</th>\n",
       "      <th>url</th>\n",
       "      <th>title</th>\n",
       "      <th>avatar</th>\n",
       "      <th>followers</th>\n",
       "      <th>country</th>\n",
       "      <th>location</th>\n",
       "      <th>joined</th>\n",
       "      <th>status</th>\n",
       "      <th>is_streamer</th>\n",
       "      <th>twitch_url</th>\n",
       "      <th>verified</th>\n",
       "      <th>league</th>\n",
       "    </tr>\n",
       "  </thead>\n",
       "  <tbody>\n",
       "    <tr>\n",
       "      <th>0</th>\n",
       "      <td>pat_buchanan</td>\n",
       "      <td>Pat Buchanan</td>\n",
       "      <td>https://www.chess.com/member/Pat_Buchanan</td>\n",
       "      <td>NaN</td>\n",
       "      <td>https://images.chesscomfiles.com/uploads/v1/us...</td>\n",
       "      <td>99</td>\n",
       "      <td>MX</td>\n",
       "      <td>Ciudad de M&amp;eacute;xico</td>\n",
       "      <td>1471850943</td>\n",
       "      <td>basic</td>\n",
       "      <td>f</td>\n",
       "      <td>NaN</td>\n",
       "      <td>f</td>\n",
       "      <td>Legend</td>\n",
       "    </tr>\n",
       "  </tbody>\n",
       "</table>\n",
       "</div>"
      ],
      "text/plain": [
       "    player_name          name                                        url  \\\n",
       "0  pat_buchanan  Pat Buchanan  https://www.chess.com/member/Pat_Buchanan   \n",
       "\n",
       "   title                                             avatar  followers  \\\n",
       "0    NaN  https://images.chesscomfiles.com/uploads/v1/us...         99   \n",
       "\n",
       "  country                 location      joined status is_streamer  twitch_url  \\\n",
       "0      MX  Ciudad de M&eacute;xico  1471850943  basic           f         NaN   \n",
       "\n",
       "  verified  league  \n",
       "0        f  Legend  "
      ]
     },
     "execution_count": 31,
     "metadata": {},
     "output_type": "execute_result"
    }
   ],
   "source": [
    "a"
   ]
  },
  {
   "cell_type": "code",
   "execution_count": null,
   "id": "580d4e1c-5d95-4db7-807e-238759953c40",
   "metadata": {},
   "outputs": [],
   "source": []
  },
  {
   "cell_type": "code",
   "execution_count": null,
   "id": "8fa79668-0e97-45af-a1f6-02554c3a2f9a",
   "metadata": {},
   "outputs": [],
   "source": []
  },
  {
   "cell_type": "code",
   "execution_count": null,
   "id": "aec2c685-c08a-4b89-8e96-1b6dcdef0446",
   "metadata": {},
   "outputs": [],
   "source": []
  },
  {
   "cell_type": "code",
   "execution_count": null,
   "id": "76ce8520-19fe-4d56-974b-51a9ea7d74b0",
   "metadata": {},
   "outputs": [],
   "source": [
    "@dataclass\n",
    "class Player:\n",
    "    player_name: str\n",
    "    profile: dict() = Optional\n",
    "\n",
    "    def get_profile(self.player_name):\n",
    "        \n",
    "    def wdl(self):\n",
    "        return get_n_games_hist_data(self.player_name)\n",
    "    def games(self, time_control = False):\n",
    "        return get_all_games(self.player_name, time_control = time_control)\n",
    "    def games_where(self, result:float, color:str, time_control = False):\n",
    "        return get_games_where(self.player_name, result, color, time_control = time_control)\n",
    "    def moves(game_links):\n",
    "        return get_moves(game_links)"
   ]
  },
  {
   "cell_type": "code",
   "execution_count": null,
   "id": "9aeb8c8f-5134-4e87-a19d-9daf20522bb5",
   "metadata": {},
   "outputs": [],
   "source": []
  },
  {
   "cell_type": "code",
   "execution_count": null,
   "id": "d286c84d-dc58-45ed-b306-26e8342455c6",
   "metadata": {},
   "outputs": [],
   "source": []
  },
  {
   "cell_type": "code",
   "execution_count": null,
   "id": "3debe64b-550c-4b83-b4ec-c2b3a69dac72",
   "metadata": {},
   "outputs": [],
   "source": []
  },
  {
   "cell_type": "code",
   "execution_count": 5,
   "id": "0f14af72-fa75-44f3-9aa6-c4ccdcbbb089",
   "metadata": {},
   "outputs": [
    {
     "data": {
      "text/plain": [
       "True"
      ]
     },
     "execution_count": 5,
     "metadata": {},
     "output_type": "execute_result"
    }
   ],
   "source": [
    "player_exists_at_db('pat_buchanan')"
   ]
  },
  {
   "cell_type": "code",
   "execution_count": 13,
   "id": "c76313d6-e0b7-435a-8237-d945ea42e339",
   "metadata": {},
   "outputs": [],
   "source": [
    "games =open_request(\"select * from game where game.black = 'pat_buchanan'\")"
   ]
  },
  {
   "cell_type": "code",
   "execution_count": 23,
   "id": "a152cd11-66c7-45cd-aa2a-da4976357e18",
   "metadata": {},
   "outputs": [],
   "source": [
    "w = [1703083688,1703080552, 1703079032]"
   ]
  },
  {
   "cell_type": "code",
   "execution_count": 21,
   "id": "aa130328-83ea-4354-9773-cce8f16af6ed",
   "metadata": {},
   "outputs": [
    {
     "data": {
      "text/plain": [
       "(1703079032,\n",
       " 'box-t',\n",
       " 'pat_buchanan',\n",
       " '01:13:09',\n",
       " 2016,\n",
       " 8,\n",
       " 25,\n",
       " 1252,\n",
       " 1205,\n",
       " 1.0,\n",
       " 0.0,\n",
       " '60',\n",
       " 'c30',\n",
       " '00:01:37',\n",
       " 'resignation',\n",
       " 23)"
      ]
     },
     "execution_count": 21,
     "metadata": {},
     "output_type": "execute_result"
    }
   ],
   "source": [
    "games[2]"
   ]
  },
  {
   "cell_type": "code",
   "execution_count": 15,
   "id": "5e0bb8d4-11ce-4b2b-87e2-27b813e456eb",
   "metadata": {},
   "outputs": [],
   "source": [
    "moves =open_request(\"select * from moves where moves.id = 1703083688\")"
   ]
  },
  {
   "cell_type": "code",
   "execution_count": 16,
   "id": "47944fe2-8f48-4b73-b1c9-52ee09e2f8cb",
   "metadata": {},
   "outputs": [
    {
     "data": {
      "text/plain": [
       "[(1703083688,\n",
       "  '1 2 3 4 5 6 7 8 9 10 11 12 13',\n",
       "  'e4 Nf3 Nc3 d4 Nxd4 Bb5 Nxc6 Bxc6+ O-O Bg5 Qf3 Bxf6 Rad1',\n",
       "  'c5 Nc6 d6 cxd4 Nf6 Bd7 Bxc6 bxc6 e5 Be7 h6 Bxf6 -',\n",
       "  '1.6000000000000014 0.5 0.29999999999999716 0.10000000000000142 4.5 5.600000000000001 0.7999999999999972 1.2000000000000028 3.3999999999999986 0.3999999999999986 1.4000000000000057 0.29999999999999716 nan',\n",
       "  '8.399999999999999 5.300000000000004 2.0 2.799999999999997 9.0 1.3000000000000007 0.8000000000000007 6.300000000000001 5.800000000000001 13.099999999999998 1.4999999999999998 nan',\n",
       "  '54.1 52.5 52.0 51.7 51.6 47.1 41.5 40.7 39.5 36.1 35.7 34.3 34.0',\n",
       "  '58.1 49.7 44.4 42.4 39.6 30.6 29.3 28.5 22.2 16.4 3.3 1.8')]"
      ]
     },
     "execution_count": 16,
     "metadata": {},
     "output_type": "execute_result"
    }
   ],
   "source": [
    "moves"
   ]
  },
  {
   "cell_type": "code",
   "execution_count": 18,
   "id": "dc4f80a6-67f5-4ed7-89de-6d343f1dcbb4",
   "metadata": {},
   "outputs": [],
   "source": [
    "def read_sql_tmpfile(query):\n",
    "    conn = get_ask_connection()\n",
    "    with tempfile.TemporaryFile() as tmpfile:\n",
    "        copy_sql = \"COPY ({query}) TO STDOUT WITH CSV {head}\".format(\n",
    "           query=query, head=\"HEADER\"\n",
    "        )\n",
    "        cur = conn.cursor()\n",
    "        cur.copy_expert(copy_sql, tmpfile)\n",
    "        tmpfile.seek(0)\n",
    "        df = pd.read_csv(tmpfile)\n",
    "        return df"
   ]
  },
  {
   "cell_type": "code",
   "execution_count": null,
   "id": "b3d09ca1-0f2d-41a2-af8e-dcd17b07425a",
   "metadata": {},
   "outputs": [],
   "source": [
    "w = tuple([str(x) for x in w])\n",
    "\n",
    "read_sql_tmpfile(f\"\"\"\n",
    "            SELECT * FROM moves\n",
    "            Where moves.id in {w}\n",
    "            \"\"\")"
   ]
  },
  {
   "cell_type": "code",
   "execution_count": null,
   "id": "e23fd270-f2a2-407a-bf04-521b997d4e75",
   "metadata": {},
   "outputs": [],
   "source": [
    "def get_ask_connection():\n",
    "    CONN_STRING = os.getenv(\"PSYCOPG2_CONN_STRING\")\n",
    "    return psycopg2.connect(CONN_STRING, port = 5433)\n",
    "\n",
    "def player_exists_at_db(player_name: str):\n",
    "    conn = get_ask_connection()\n",
    "    with conn.cursor() as curs:\n",
    "        curs.execute(\n",
    "            f\"select player_name from player where player_name='{player_name}'\"\n",
    "        )\n",
    "        result = curs.fetchall()\n",
    "    if len(result) == 1:\n",
    "        return True\n",
    "    return False\n",
    "\n",
    "def open_request(sql_question:str):\n",
    "    conn = get_ask_connection()\n",
    "    with conn.cursor() as curs:\n",
    "        curs.execute(\n",
    "            sql_question\n",
    "        )\n",
    "        result = curs.fetchall()\n",
    "    return result\n",
    "\n",
    "def ask_months_in(player_name: str) -> list[tuple:tuple]:\n",
    "    \"\"\"\n",
    "    It ask the db for the already asked months at chess com\n",
    "    it returns them as a list of tuples\n",
    "    \"\"\"\n",
    "    conn = get_ask_connection()\n",
    "    with conn.cursor() as curs:\n",
    "        curs.execute(f\"select dates from months where player_name='{player_name}'\")\n",
    "        result = curs.fetchall()\n",
    "    join_result = list(chain.from_iterable(result))\n",
    "    result_as_list_of_tuples = [\n",
    "        (int(x.split(\"-\")[0]), int(x.split(\"-\")[1])) for x in join_result\n",
    "    ]\n",
    "    return result_as_list_of_tuples\n",
    "\n",
    "\n",
    "def ask_links_with_this_players(player_name, tuple_of_players) -> set():\n",
    "    \"\"\"\n",
    "    Ask db the game.link for every past game of the player with any new user,\n",
    "    we need to know it's some game is already at the database or if some player is not\n",
    "    \"\"\"\n",
    "    conn = get_ask_connection()\n",
    "    with conn.cursor() as curs:\n",
    "        curs.execute(\n",
    "            f\"select link from game where white='{player_name}' and black in {tuple_of_players}\"\n",
    "        )\n",
    "        result = curs.fetchall()\n",
    "        curs.execute(\n",
    "            f\"select link from game where black='{player_name}' and white in {tuple_of_players}\"\n",
    "        )\n",
    "        result_2 = curs.fetchall()\n",
    "    result = set(list(chain.from_iterable(result)))\n",
    "    result_2 = set(list(chain.from_iterable(result_2)))\n",
    "    result.update(result_2)\n",
    "    return set([int(x) for x in result])\n",
    "\n",
    "\n",
    "def get_all_players():\n",
    "    conn = get_ask_connection()\n",
    "    with conn.cursor() as curs:\n",
    "        curs.execute(f\"select player_name from player\")\n",
    "        result = curs.fetchall()\n",
    "    result = set(list(chain.from_iterable(result)))\n",
    "    return result"
   ]
  }
 ],
 "metadata": {
  "kernelspec": {
   "display_name": "chess",
   "language": "python",
   "name": "chess"
  },
  "language_info": {
   "codemirror_mode": {
    "name": "ipython",
    "version": 3
   },
   "file_extension": ".py",
   "mimetype": "text/x-python",
   "name": "python",
   "nbconvert_exporter": "python",
   "pygments_lexer": "ipython3",
   "version": "3.9.18"
  }
 },
 "nbformat": 4,
 "nbformat_minor": 5
}
